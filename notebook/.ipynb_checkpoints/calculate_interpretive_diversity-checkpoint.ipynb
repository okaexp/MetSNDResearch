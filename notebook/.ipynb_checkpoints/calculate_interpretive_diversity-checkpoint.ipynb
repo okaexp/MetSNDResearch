{
 "cells": [
  {
   "cell_type": "markdown",
   "metadata": {
    "id": "42_dVXN4MPdQ"
   },
   "source": [
    "### 隠喩表現と直喩表現から収集された特徴語の一覧からの解釈多様性の算出"
   ]
  },
  {
   "cell_type": "markdown",
   "metadata": {
    "id": "sQeOPBDb_zRx"
   },
   "source": [
    "#### mecabの準備と動作確認\n",
    "- MeCabの準備などは以下などを参考のこと\n",
    "    - [Google ColabにMeCabとipadic-NEologdをインストールする](https://qiita.com/jun40vn/items/78e33e29dce3d50c2df1)"
   ]
  },
  {
   "cell_type": "code",
   "execution_count": 3,
   "metadata": {
    "colab": {
     "base_uri": "https://localhost:8080/"
    },
    "executionInfo": {
     "elapsed": 17,
     "status": "ok",
     "timestamp": 1622044442960,
     "user": {
      "displayName": "Ryunouske OKA",
      "photoUrl": "",
      "userId": "07282612152377513932"
     },
     "user_tz": -540
    },
    "id": "2OSL76a8_mKW",
    "outputId": "d148aa66-5a34-443d-e271-d1e10551965f"
   },
   "outputs": [
    {
     "name": "stdout",
     "output_type": "stream",
     "text": [
      "/usr/local/lib/mecab/dic/mecab-ipadic-neologd\n"
     ]
    }
   ],
   "source": [
    "#この実行結果で表示されるmecabの辞書を以下のpathで指定する\n",
    "!echo `mecab-config --dicdir`\"/mecab-ipadic-neologd\""
   ]
  },
  {
   "cell_type": "code",
   "execution_count": 4,
   "metadata": {
    "executionInfo": {
     "elapsed": 14,
     "status": "ok",
     "timestamp": 1622044442961,
     "user": {
      "displayName": "Ryunouske OKA",
      "photoUrl": "",
      "userId": "07282612152377513932"
     },
     "user_tz": -540
    },
    "id": "Z-J3hgl1_oVu"
   },
   "outputs": [],
   "source": [
    "import MeCab\n",
    "\n",
    "#-d以降の内容を上の実行結果に変更する\n",
    "path = \"-d /usr/local/lib/mecab/dic/mecab-ipadic-neologd\"\n",
    "\n",
    "#MeCabオブジェクトの準備\n",
    "m = MeCab.Tagger(path)"
   ]
  },
  {
   "cell_type": "code",
   "execution_count": 6,
   "metadata": {
    "colab": {
     "base_uri": "https://localhost:8080/"
    },
    "executionInfo": {
     "elapsed": 392,
     "status": "ok",
     "timestamp": 1622044450571,
     "user": {
      "displayName": "Ryunouske OKA",
      "photoUrl": "",
      "userId": "07282612152377513932"
     },
     "user_tz": -540
    },
    "id": "Bdjs08kdAuhM",
    "outputId": "a1ed9c3e-b070-4c2d-de1d-9bbf8d3bf1e3"
   },
   "outputs": [
    {
     "name": "stdout",
     "output_type": "stream",
     "text": [
      "mecab\t名詞,固有名詞,一般,*,*,*,MeCab,メカブ,メカブ\n",
      "の\t助詞,連体化,*,*,*,*,の,ノ,ノ\n",
      "動作\t名詞,サ変接続,*,*,*,*,動作,ドウサ,ドーサ\n",
      "確認\t名詞,サ変接続,*,*,*,*,確認,カクニン,カクニン\n",
      "EOS\n",
      "\n"
     ]
    }
   ],
   "source": [
    "#MeCabの動作確認\n",
    "print(m.parse(\"mecabの動作確認\"))"
   ]
  },
  {
   "cell_type": "markdown",
   "metadata": {
    "id": "djaVEHsNALVW"
   },
   "source": [
    "`MetaphorSimileFeatures.csv`から、以下の基準で形態素の辞書を作る\n",
    "- カンマなどで形態素を分ける\n",
    "  - 空白文字(\\u3000)はカンマに置き換える\n",
    "  - 「」は削除する\n",
    "  - 形態素解析で、文字を分ける\n",
    "  - その上で形容詞、動詞、形容動詞のみ取り出す\n",
    "- 動詞, 形容詞, 形容動詞は原型にする\n",
    "- 複合語からなる回答は除外する（要確認）\n",
    "- 回答が2つ以下のものは省く"
   ]
  },
  {
   "cell_type": "markdown",
   "metadata": {},
   "source": [
    "`data`の列の説明\n",
    "- Sex: 1が男性, 2が女性\n",
    "- Age: 参加者の年齢\n",
    "- P_ID: 参加者のID\n",
    "- Questions: TV/Sから始まる比喩番号（TV: 隠喩表現, S: 直喩表現）\n",
    "- Value: 参加者から得られた1~3個の特徴語\n",
    "- Presentation: 比喩表現の種類\n",
    "- QID: 比喩表現の番号（番号と表現の対応関係は＝で）"
   ]
  },
  {
   "cell_type": "code",
   "execution_count": 7,
   "metadata": {
    "executionInfo": {
     "elapsed": 394,
     "status": "ok",
     "timestamp": 1622044454765,
     "user": {
      "displayName": "Ryunouske OKA",
      "photoUrl": "",
      "userId": "07282612152377513932"
     },
     "user_tz": -540
    },
    "id": "_dDw0Fh3_3HG"
   },
   "outputs": [],
   "source": [
    "#ライブラリのインポート\n",
    "import numpy as np\n",
    "import pandas as pd\n",
    "import tqdm"
   ]
  },
  {
   "cell_type": "code",
   "execution_count": 8,
   "metadata": {
    "colab": {
     "base_uri": "https://localhost:8080/",
     "height": 204
    },
    "executionInfo": {
     "elapsed": 1074,
     "status": "ok",
     "timestamp": 1622044456945,
     "user": {
      "displayName": "Ryunouske OKA",
      "photoUrl": "",
      "userId": "07282612152377513932"
     },
     "user_tz": -540
    },
    "id": "TzYtLtl2_qd9",
    "outputId": "4dc72e86-41c9-43ed-ecff-203e53592c31"
   },
   "outputs": [
    {
     "data": {
      "text/html": [
       "<div>\n",
       "<style scoped>\n",
       "    .dataframe tbody tr th:only-of-type {\n",
       "        vertical-align: middle;\n",
       "    }\n",
       "\n",
       "    .dataframe tbody tr th {\n",
       "        vertical-align: top;\n",
       "    }\n",
       "\n",
       "    .dataframe thead th {\n",
       "        text-align: right;\n",
       "    }\n",
       "</style>\n",
       "<table border=\"1\" class=\"dataframe\">\n",
       "  <thead>\n",
       "    <tr style=\"text-align: right;\">\n",
       "      <th></th>\n",
       "      <th>Sex</th>\n",
       "      <th>Age</th>\n",
       "      <th>P_ID</th>\n",
       "      <th>Questions</th>\n",
       "      <th>Value</th>\n",
       "      <th>Presentation</th>\n",
       "      <th>QID</th>\n",
       "    </tr>\n",
       "  </thead>\n",
       "  <tbody>\n",
       "    <tr>\n",
       "      <th>0</th>\n",
       "      <td>2</td>\n",
       "      <td>42</td>\n",
       "      <td>618221</td>\n",
       "      <td>TV01</td>\n",
       "      <td>突きさす、鋭い</td>\n",
       "      <td>TV</td>\n",
       "      <td>01</td>\n",
       "    </tr>\n",
       "    <tr>\n",
       "      <th>1</th>\n",
       "      <td>2</td>\n",
       "      <td>38</td>\n",
       "      <td>854398</td>\n",
       "      <td>TV01</td>\n",
       "      <td>きつい、厳しい</td>\n",
       "      <td>TV</td>\n",
       "      <td>01</td>\n",
       "    </tr>\n",
       "    <tr>\n",
       "      <th>2</th>\n",
       "      <td>1</td>\n",
       "      <td>44</td>\n",
       "      <td>596296</td>\n",
       "      <td>TV01</td>\n",
       "      <td>怖い、危険、冷たい</td>\n",
       "      <td>TV</td>\n",
       "      <td>01</td>\n",
       "    </tr>\n",
       "    <tr>\n",
       "      <th>3</th>\n",
       "      <td>1</td>\n",
       "      <td>28</td>\n",
       "      <td>714743</td>\n",
       "      <td>TV01</td>\n",
       "      <td>痛い、突き刺さる</td>\n",
       "      <td>TV</td>\n",
       "      <td>01</td>\n",
       "    </tr>\n",
       "    <tr>\n",
       "      <th>4</th>\n",
       "      <td>1</td>\n",
       "      <td>44</td>\n",
       "      <td>966384</td>\n",
       "      <td>TV01</td>\n",
       "      <td>鋭い、痛い、危ない</td>\n",
       "      <td>TV</td>\n",
       "      <td>01</td>\n",
       "    </tr>\n",
       "  </tbody>\n",
       "</table>\n",
       "</div>"
      ],
      "text/plain": [
       "   Sex  Age    P_ID Questions      Value Presentation QID\n",
       "0    2   42  618221      TV01    突きさす、鋭い           TV  01\n",
       "1    2   38  854398      TV01    きつい、厳しい           TV  01\n",
       "2    1   44  596296      TV01  怖い、危険、冷たい           TV  01\n",
       "3    1   28  714743      TV01   痛い、突き刺さる           TV  01\n",
       "4    1   44  966384      TV01  鋭い、痛い、危ない           TV  01"
      ]
     },
     "execution_count": 8,
     "metadata": {},
     "output_type": "execute_result"
    }
   ],
   "source": [
    "#データの読み込み\n",
    "data = pd.read_csv(\"../data/MetaphorSimileFeatures.csv\")\n",
    "\n",
    "#Questionsを記号と数字に分ける\n",
    "data['Presentation'] = data['Questions'].str.split('[0-9]{2}', expand=True)[0]\n",
    "data['QID'] = data['Questions'].str.split('[A-Z]{1,}', expand=True)[1]\n",
    "\n",
    "data.head()"
   ]
  },
  {
   "cell_type": "code",
   "execution_count": 11,
   "metadata": {
    "executionInfo": {
     "elapsed": 379,
     "status": "ok",
     "timestamp": 1622044463169,
     "user": {
      "displayName": "Ryunouske OKA",
      "photoUrl": "",
      "userId": "07282612152377513932"
     },
     "user_tz": -540
    },
    "id": "h1MSl649SeRi"
   },
   "outputs": [],
   "source": [
    "def features2fl(features):\n",
    "    \"\"\"\n",
    "    特徴を含む文字列を形態素解析などして、特徴のリストにする\n",
    "    \"\"\"\n",
    "    fl = list()\n",
    "    parsed_str = m.parse(features).split(\"\\n\")\n",
    "    for parsed in parsed_str:\n",
    "        if \"\\t\" in parsed:\n",
    "            parsed = parsed.split(\"\\t\")[1].split(\",\")\n",
    "            if (parsed[0] in [\"形容詞\", \"動詞\"]) or (parsed[0]==\"名詞\" and parsed[1]==\"形容動詞語幹\"):\n",
    "                fl.append(parsed[6])\n",
    "    return fl"
   ]
  },
  {
   "cell_type": "code",
   "execution_count": 12,
   "metadata": {
    "colab": {
     "base_uri": "https://localhost:8080/"
    },
    "executionInfo": {
     "elapsed": 2118,
     "status": "ok",
     "timestamp": 1622044465281,
     "user": {
      "displayName": "Ryunouske OKA",
      "photoUrl": "",
      "userId": "07282612152377513932"
     },
     "user_tz": -540
    },
    "id": "cAKc892eGwYB",
    "outputId": "b9de4aca-733d-4000-d27d-f5dc8d2fba4e"
   },
   "outputs": [
    {
     "name": "stderr",
     "output_type": "stream",
     "text": [
      "4409it [00:02, 1753.40it/s]\n"
     ]
    }
   ],
   "source": [
    "#dataを1行ずつ確認して、QIDごとにfeature_dictを作る\n",
    "whole_features_dict = dict()\n",
    "na_number = 0\n",
    "\n",
    "for col, rows in tqdm.tqdm(data.iterrows()):\n",
    "  #もしQIDがなかったらPresentationの種類ごとに辞書登録\n",
    "    if rows.QID not in whole_features_dict.keys():\n",
    "        whole_features_dict[rows.QID] = dict()\n",
    "        whole_features_dict[rows.QID][\"TV\"] = dict()#隠喩の特徴語\n",
    "        whole_features_dict[rows.QID][\"S\"] = dict()\n",
    "\n",
    "    #読点で切る\n",
    "    cur_feature_lst = features2fl(rows.Value)\n",
    "    if len(cur_feature_lst) < 1:\n",
    "        na_number += 1\n",
    "        continue\n",
    "  \n",
    "    #現在の特徴をPresentaionに合わせて数え上げ\n",
    "    for cur_feature in cur_feature_lst:\n",
    "        whole_features_dict[rows.QID][rows.Presentation][cur_feature] = whole_features_dict[rows.QID][rows.Presentation].get(cur_feature, 0) + 1"
   ]
  },
  {
   "cell_type": "code",
   "execution_count": 13,
   "metadata": {
    "colab": {
     "base_uri": "https://localhost:8080/"
    },
    "executionInfo": {
     "elapsed": 470,
     "status": "ok",
     "timestamp": 1622044469518,
     "user": {
      "displayName": "Ryunouske OKA",
      "photoUrl": "",
      "userId": "07282612152377513932"
     },
     "user_tz": -540
    },
    "id": "VxbByBPrV-Oi",
    "outputId": "266ab146-0aa2-466a-c68f-be13d0d08808"
   },
   "outputs": [
    {
     "name": "stdout",
     "output_type": "stream",
     "text": [
      "128\n",
      "4409\n"
     ]
    }
   ],
   "source": [
    "print(na_number)#無効回答数\n",
    "print(data.shape[0])#有効データ数"
   ]
  },
  {
   "cell_type": "code",
   "execution_count": 14,
   "metadata": {
    "executionInfo": {
     "elapsed": 3,
     "status": "ok",
     "timestamp": 1622044471232,
     "user": {
      "displayName": "Ryunouske OKA",
      "photoUrl": "",
      "userId": "07282612152377513932"
     },
     "user_tz": -540
    },
    "id": "lio_SErnKHSb"
   },
   "outputs": [],
   "source": [
    "#2回以上出現していない特徴は切る→残ったものがfeaturelist\n",
    "final_whole_features_dict = dict()\n",
    "\n",
    "#stopwordsを決める\n",
    "STOPWORDS = [\"ある\", \"する\", \"いる\", \"ない\"]\n",
    "\n",
    "for idx, (k1, v1) in enumerate(whole_features_dict.items()):\n",
    "    if k1 not in final_whole_features_dict.keys():\n",
    "        final_whole_features_dict[k1] = dict()\n",
    "    for k2, v2 in v1.items():\n",
    "        if k2 not in final_whole_features_dict[k1].keys():\n",
    "            final_whole_features_dict[k1][k2] = dict()\n",
    "        for k3, v3 in v2.items():\n",
    "            if (v3 > 1) and (k3 not in STOPWORDS):\n",
    "                final_whole_features_dict[k1][k2][k3] = v3"
   ]
  },
  {
   "cell_type": "code",
   "execution_count": 15,
   "metadata": {
    "colab": {
     "base_uri": "https://localhost:8080/"
    },
    "executionInfo": {
     "elapsed": 466,
     "status": "ok",
     "timestamp": 1622044474370,
     "user": {
      "displayName": "Ryunouske OKA",
      "photoUrl": "",
      "userId": "07282612152377513932"
     },
     "user_tz": -540
    },
    "id": "YgEif9mkY16d",
    "outputId": "39a11f7a-a099-4752-d25e-1b7c936e5238"
   },
   "outputs": [
    {
     "data": {
      "text/plain": [
       "{'TV': {'鋭い': 24,\n",
       "  'きつい': 3,\n",
       "  '厳しい': 2,\n",
       "  '怖い': 2,\n",
       "  '危険': 3,\n",
       "  '冷たい': 2,\n",
       "  '痛い': 11,\n",
       "  '突き刺さる': 3,\n",
       "  '危ない': 4,\n",
       "  '傷つく': 5,\n",
       "  '嫌': 2,\n",
       "  '切れる': 3,\n",
       "  '悲しい': 2,\n",
       "  '硬い': 2,\n",
       "  '切る': 3,\n",
       "  '短い': 3,\n",
       "  '刺す': 3,\n",
       "  '傷つける': 4,\n",
       "  '嫌味': 2,\n",
       "  '刺さる': 2},\n",
       " 'S': {'するどい': 4,\n",
       "  '短い': 2,\n",
       "  '鋭い': 27,\n",
       "  '痛い': 12,\n",
       "  '怖い': 5,\n",
       "  '傷つく': 5,\n",
       "  '嫌': 3,\n",
       "  '切れる': 7,\n",
       "  '突き刺さる': 2,\n",
       "  '切る': 2,\n",
       "  '刺す': 4,\n",
       "  '傷つける': 3,\n",
       "  '刺さる': 6,\n",
       "  '鋭利': 2,\n",
       "  '斬る': 2,\n",
       "  '危ない': 3}}"
      ]
     },
     "execution_count": 15,
     "metadata": {},
     "output_type": "execute_result"
    }
   ],
   "source": [
    "final_whole_features_dict[\"01\"]"
   ]
  },
  {
   "cell_type": "code",
   "execution_count": 16,
   "metadata": {
    "colab": {
     "base_uri": "https://localhost:8080/"
    },
    "executionInfo": {
     "elapsed": 531,
     "status": "ok",
     "timestamp": 1622044479537,
     "user": {
      "displayName": "Ryunouske OKA",
      "photoUrl": "",
      "userId": "07282612152377513932"
     },
     "user_tz": -540
    },
    "id": "nwtUbCkyDWYE",
    "outputId": "fa74b571-14fa-43ab-d2be-47352bc8c842"
   },
   "outputs": [
    {
     "name": "stderr",
     "output_type": "stream",
     "text": [
      "100%|█████████████████████████████████████████████████████████████| 45/45 [00:00<00:00, 18535.17it/s]\n"
     ]
    }
   ],
   "source": [
    "#interpretive diversityをまとめた辞書を用意\n",
    "ID_dict = dict()\n",
    "\n",
    "#Interpretive diverisityを算出する\n",
    "for k1, v1 in tqdm.tqdm(final_whole_features_dict.items()):\n",
    "    if k1 not in ID_dict.keys():\n",
    "        ID_dict[k1] = dict()\n",
    "    for k2, v2 in v1.items():\n",
    "        if k2 not in ID_dict[k1].keys():\n",
    "            ID_dict[k1][k2] = dict()\n",
    "            ID_dict[k1][k2][\"_ID\"] = 0\n",
    "            ID_dict[k1][k2][\"_types\"] = len(final_whole_features_dict[k1][k2].keys())\n",
    "            ID_dict[k1][k2][\"_tokens\"] = sum(final_whole_features_dict[k1][k2].values())\n",
    "        for types, (k3, v3) in enumerate(v2.items(), 1):\n",
    "            ID_dict[k1][k2][\"_ID\"] += -(v3/ID_dict[k1][k2][\"_tokens\"])*np.log2(v3/ID_dict[k1][k2][\"_tokens\"])"
   ]
  },
  {
   "cell_type": "code",
   "execution_count": 17,
   "metadata": {
    "colab": {
     "base_uri": "https://localhost:8080/"
    },
    "executionInfo": {
     "elapsed": 3,
     "status": "ok",
     "timestamp": 1622044483858,
     "user": {
      "displayName": "Ryunouske OKA",
      "photoUrl": "",
      "userId": "07282612152377513932"
     },
     "user_tz": -540
    },
    "id": "MCdCm_5vdlmx",
    "outputId": "9384e340-6b1a-483d-f92a-e1d2dd5d4636"
   },
   "outputs": [
    {
     "data": {
      "text/plain": [
       "{'01': {'TV': {'_ID': 3.76248857364477, '_types': 20, '_tokens': 85},\n",
       "  'S': {'_ID': 3.4415006727510975, '_types': 16, '_tokens': 89}},\n",
       " '02': {'TV': {'_ID': 3.481136061043902, '_types': 13, '_tokens': 72},\n",
       "  'S': {'_ID': 3.7274101673393862, '_types': 18, '_tokens': 77}},\n",
       " '03': {'TV': {'_ID': 4.031974648295472, '_types': 18, '_tokens': 73},\n",
       "  'S': {'_ID': 3.9546205239501804, '_types': 18, '_tokens': 69}},\n",
       " '04': {'TV': {'_ID': 3.5157068807872145, '_types': 16, '_tokens': 81},\n",
       "  'S': {'_ID': 3.9257031306448775, '_types': 20, '_tokens': 87}},\n",
       " '05': {'TV': {'_ID': 4.013688322930431, '_types': 19, '_tokens': 82},\n",
       "  'S': {'_ID': 3.825331512178963, '_types': 19, '_tokens': 88}},\n",
       " '06': {'TV': {'_ID': 3.7220291289837557, '_types': 17, '_tokens': 71},\n",
       "  'S': {'_ID': 3.529919004450064, '_types': 18, '_tokens': 82}},\n",
       " '07': {'TV': {'_ID': 3.24620508147799, '_types': 14, '_tokens': 69},\n",
       "  'S': {'_ID': 3.269053458745536, '_types': 15, '_tokens': 84}},\n",
       " '08': {'TV': {'_ID': 3.186640474546178, '_types': 12, '_tokens': 60},\n",
       "  'S': {'_ID': 2.896415088667017, '_types': 10, '_tokens': 54}},\n",
       " '09': {'TV': {'_ID': 3.1400175121177254, '_types': 12, '_tokens': 81},\n",
       "  'S': {'_ID': 3.764170876729199, '_types': 17, '_tokens': 91}},\n",
       " '10': {'TV': {'_ID': 3.990267303014987, '_types': 21, '_tokens': 98},\n",
       "  'S': {'_ID': 3.615703845429466, '_types': 16, '_tokens': 96}},\n",
       " '11': {'TV': {'_ID': 3.6252319556553694, '_types': 17, '_tokens': 74},\n",
       "  'S': {'_ID': 3.0525150973303816, '_types': 14, '_tokens': 76}},\n",
       " '12': {'TV': {'_ID': 3.68623118609611, '_types': 17, '_tokens': 93},\n",
       "  'S': {'_ID': 3.3382133358948938, '_types': 12, '_tokens': 77}},\n",
       " '13': {'TV': {'_ID': 3.8700147716634667, '_types': 17, '_tokens': 59},\n",
       "  'S': {'_ID': 3.601406345114633, '_types': 15, '_tokens': 76}},\n",
       " '14': {'TV': {'_ID': 3.130021061201049, '_types': 10, '_tokens': 35},\n",
       "  'S': {'_ID': 2.7937096024913695, '_types': 9, '_tokens': 49}},\n",
       " '15': {'TV': {'_ID': 3.6999471730609916, '_types': 16, '_tokens': 61},\n",
       "  'S': {'_ID': 3.22635304290299, '_types': 11, '_tokens': 53}},\n",
       " '16': {'TV': {'_ID': 3.0462819197680613, '_types': 14, '_tokens': 70},\n",
       "  'S': {'_ID': 2.9530198307196924, '_types': 12, '_tokens': 66}},\n",
       " '17': {'TV': {'_ID': 3.3794892016174054, '_types': 14, '_tokens': 78},\n",
       "  'S': {'_ID': 3.320522165234533, '_types': 14, '_tokens': 69}},\n",
       " '18': {'TV': {'_ID': 3.8691345110071387, '_types': 17, '_tokens': 77},\n",
       "  'S': {'_ID': 4.096592559180232, '_types': 19, '_tokens': 81}},\n",
       " '19': {'TV': {'_ID': 3.6033844471454026, '_types': 17, '_tokens': 74},\n",
       "  'S': {'_ID': 3.575655023570419, '_types': 15, '_tokens': 69}},\n",
       " '20': {'TV': {'_ID': 3.469881244500969, '_types': 15, '_tokens': 73},\n",
       "  'S': {'_ID': 3.1688516862326117, '_types': 14, '_tokens': 71}},\n",
       " '21': {'TV': {'_ID': 3.9135725597906688, '_types': 18, '_tokens': 72},\n",
       "  'S': {'_ID': 3.715540022049655, '_types': 15, '_tokens': 60}},\n",
       " '22': {'TV': {'_ID': 4.231605126722911, '_types': 21, '_tokens': 64},\n",
       "  'S': {'_ID': 4.460327504278365, '_types': 24, '_tokens': 68}},\n",
       " '23': {'TV': {'_ID': 4.083950391383627, '_types': 19, '_tokens': 62},\n",
       "  'S': {'_ID': 4.020044643290161, '_types': 19, '_tokens': 68}},\n",
       " '24': {'TV': {'_ID': 4.009013637018944, '_types': 19, '_tokens': 65},\n",
       "  'S': {'_ID': 3.5056901760103605, '_types': 13, '_tokens': 51}},\n",
       " '25': {'TV': {'_ID': 2.987163937947951, '_types': 11, '_tokens': 61},\n",
       "  'S': {'_ID': 2.8306019823660598, '_types': 11, '_tokens': 64}},\n",
       " '26': {'TV': {'_ID': 4.245803905034978, '_types': 23, '_tokens': 82},\n",
       "  'S': {'_ID': 3.825217933331224, '_types': 18, '_tokens': 79}},\n",
       " '27': {'TV': {'_ID': 3.8783562030434036, '_types': 18, '_tokens': 71},\n",
       "  'S': {'_ID': 3.4492260530885948, '_types': 15, '_tokens': 70}},\n",
       " '28': {'TV': {'_ID': 3.9356610924641577, '_types': 18, '_tokens': 68},\n",
       "  'S': {'_ID': 3.611762461722505, '_types': 14, '_tokens': 58}},\n",
       " '29': {'TV': {'_ID': 3.8202590160255507, '_types': 17, '_tokens': 69},\n",
       "  'S': {'_ID': 3.368096247339768, '_types': 14, '_tokens': 71}},\n",
       " '30': {'TV': {'_ID': 3.6290575384583046, '_types': 15, '_tokens': 63},\n",
       "  'S': {'_ID': 3.5630705469101676, '_types': 15, '_tokens': 65}},\n",
       " '31': {'TV': {'_ID': 3.277118338692556, '_types': 13, '_tokens': 69},\n",
       "  'S': {'_ID': 3.955310652591746, '_types': 18, '_tokens': 70}},\n",
       " '32': {'TV': {'_ID': 3.678782135154181, '_types': 20, '_tokens': 85},\n",
       "  'S': {'_ID': 3.2818177192111033, '_types': 16, '_tokens': 74}},\n",
       " '33': {'TV': {'_ID': 4.2586629563203555, '_types': 22, '_tokens': 73},\n",
       "  'S': {'_ID': 4.1104196726316875, '_types': 19, '_tokens': 57}},\n",
       " '34': {'TV': {'_ID': 3.1238120029961722, '_types': 15, '_tokens': 73},\n",
       "  'S': {'_ID': 2.732600101362458, '_types': 10, '_tokens': 72}},\n",
       " '35': {'TV': {'_ID': 3.76902734562514, '_types': 16, '_tokens': 51},\n",
       "  'S': {'_ID': 3.750090047514481, '_types': 16, '_tokens': 51}},\n",
       " '36': {'TV': {'_ID': 2.6835143078602224, '_types': 10, '_tokens': 89},\n",
       "  'S': {'_ID': 2.458026423312275, '_types': 8, '_tokens': 94}},\n",
       " '37': {'TV': {'_ID': 4.068811137932629, '_types': 20, '_tokens': 84},\n",
       "  'S': {'_ID': 3.5971786506112866, '_types': 16, '_tokens': 68}},\n",
       " '38': {'TV': {'_ID': 3.0576604067563333, '_types': 11, '_tokens': 66},\n",
       "  'S': {'_ID': 3.6811599168535087, '_types': 18, '_tokens': 73}},\n",
       " '39': {'TV': {'_ID': 4.001901362962365, '_types': 18, '_tokens': 79},\n",
       "  'S': {'_ID': 3.7534731393165868, '_types': 17, '_tokens': 83}},\n",
       " '40': {'TV': {'_ID': 3.349599173352495, '_types': 14, '_tokens': 64},\n",
       "  'S': {'_ID': 4.067072890392953, '_types': 19, '_tokens': 70}},\n",
       " '41': {'TV': {'_ID': 3.498902242861733, '_types': 18, '_tokens': 94},\n",
       "  'S': {'_ID': 3.3728585407206055, '_types': 15, '_tokens': 91}},\n",
       " '42': {'TV': {'_ID': 3.2004074907267963, '_types': 12, '_tokens': 62},\n",
       "  'S': {'_ID': 3.111712600370882, '_types': 12, '_tokens': 69}},\n",
       " '43': {'TV': {'_ID': 3.3076773352681736, '_types': 17, '_tokens': 87},\n",
       "  'S': {'_ID': 2.9679172096340136, '_types': 15, '_tokens': 88}},\n",
       " '44': {'TV': {'_ID': 3.526718145541242, '_types': 14, '_tokens': 59},\n",
       "  'S': {'_ID': 3.737281764212858, '_types': 17, '_tokens': 68}},\n",
       " '45': {'TV': {'_ID': 4.039202859202012, '_types': 19, '_tokens': 72},\n",
       "  'S': {'_ID': 3.788550543233017, '_types': 16, '_tokens': 69}}}"
      ]
     },
     "execution_count": 17,
     "metadata": {},
     "output_type": "execute_result"
    }
   ],
   "source": [
    "ID_dict"
   ]
  },
  {
   "cell_type": "code",
   "execution_count": 18,
   "metadata": {
    "executionInfo": {
     "elapsed": 543,
     "status": "ok",
     "timestamp": 1622044487630,
     "user": {
      "displayName": "Ryunouske OKA",
      "photoUrl": "",
      "userId": "07282612152377513932"
     },
     "user_tz": -540
    },
    "id": "dTYry6qldmjr"
   },
   "outputs": [],
   "source": [
    "#ID_dictをpandasにする\n",
    "ID_df = pd.DataFrame()\n",
    "\n",
    "for col, (qid, presentations) in enumerate(ID_dict.items()):\n",
    "    for presentation in presentations.keys():\n",
    "        cur_series = pd.Series([qid, presentation, presentations[presentation][\"_ID\"]])\n",
    "        ID_df = ID_df.append(cur_series, ignore_index=True)\n",
    "\n",
    "ID_df.columns = [\"QID\", \"Presentation\", \"Diversity\"]"
   ]
  },
  {
   "cell_type": "markdown",
   "metadata": {},
   "source": [
    "`ID_DF`の列の説明\n",
    "- QID: 比喩表現の番号\n",
    "- Presentation: 比喩表現の種類\n",
    "- Diversity: 解釈多様性の値"
   ]
  },
  {
   "cell_type": "code",
   "execution_count": 20,
   "metadata": {
    "colab": {
     "base_uri": "https://localhost:8080/",
     "height": 419
    },
    "executionInfo": {
     "elapsed": 7,
     "status": "ok",
     "timestamp": 1622044487632,
     "user": {
      "displayName": "Ryunouske OKA",
      "photoUrl": "",
      "userId": "07282612152377513932"
     },
     "user_tz": -540
    },
    "id": "MEFYu9FGfqrZ",
    "outputId": "ee7053dc-e1d8-4d4d-f135-377042355fbf"
   },
   "outputs": [
    {
     "data": {
      "text/html": [
       "<div>\n",
       "<style scoped>\n",
       "    .dataframe tbody tr th:only-of-type {\n",
       "        vertical-align: middle;\n",
       "    }\n",
       "\n",
       "    .dataframe tbody tr th {\n",
       "        vertical-align: top;\n",
       "    }\n",
       "\n",
       "    .dataframe thead th {\n",
       "        text-align: right;\n",
       "    }\n",
       "</style>\n",
       "<table border=\"1\" class=\"dataframe\">\n",
       "  <thead>\n",
       "    <tr style=\"text-align: right;\">\n",
       "      <th></th>\n",
       "      <th>QID</th>\n",
       "      <th>Presentation</th>\n",
       "      <th>Diversity</th>\n",
       "    </tr>\n",
       "  </thead>\n",
       "  <tbody>\n",
       "    <tr>\n",
       "      <th>0</th>\n",
       "      <td>01</td>\n",
       "      <td>TV</td>\n",
       "      <td>3.762489</td>\n",
       "    </tr>\n",
       "    <tr>\n",
       "      <th>1</th>\n",
       "      <td>01</td>\n",
       "      <td>S</td>\n",
       "      <td>3.441501</td>\n",
       "    </tr>\n",
       "    <tr>\n",
       "      <th>2</th>\n",
       "      <td>02</td>\n",
       "      <td>TV</td>\n",
       "      <td>3.481136</td>\n",
       "    </tr>\n",
       "    <tr>\n",
       "      <th>3</th>\n",
       "      <td>02</td>\n",
       "      <td>S</td>\n",
       "      <td>3.727410</td>\n",
       "    </tr>\n",
       "    <tr>\n",
       "      <th>4</th>\n",
       "      <td>03</td>\n",
       "      <td>TV</td>\n",
       "      <td>4.031975</td>\n",
       "    </tr>\n",
       "    <tr>\n",
       "      <th>...</th>\n",
       "      <td>...</td>\n",
       "      <td>...</td>\n",
       "      <td>...</td>\n",
       "    </tr>\n",
       "    <tr>\n",
       "      <th>85</th>\n",
       "      <td>43</td>\n",
       "      <td>S</td>\n",
       "      <td>2.967917</td>\n",
       "    </tr>\n",
       "    <tr>\n",
       "      <th>86</th>\n",
       "      <td>44</td>\n",
       "      <td>TV</td>\n",
       "      <td>3.526718</td>\n",
       "    </tr>\n",
       "    <tr>\n",
       "      <th>87</th>\n",
       "      <td>44</td>\n",
       "      <td>S</td>\n",
       "      <td>3.737282</td>\n",
       "    </tr>\n",
       "    <tr>\n",
       "      <th>88</th>\n",
       "      <td>45</td>\n",
       "      <td>TV</td>\n",
       "      <td>4.039203</td>\n",
       "    </tr>\n",
       "    <tr>\n",
       "      <th>89</th>\n",
       "      <td>45</td>\n",
       "      <td>S</td>\n",
       "      <td>3.788551</td>\n",
       "    </tr>\n",
       "  </tbody>\n",
       "</table>\n",
       "<p>90 rows × 3 columns</p>\n",
       "</div>"
      ],
      "text/plain": [
       "   QID Presentation  Diversity\n",
       "0   01           TV   3.762489\n",
       "1   01            S   3.441501\n",
       "2   02           TV   3.481136\n",
       "3   02            S   3.727410\n",
       "4   03           TV   4.031975\n",
       "..  ..          ...        ...\n",
       "85  43            S   2.967917\n",
       "86  44           TV   3.526718\n",
       "87  44            S   3.737282\n",
       "88  45           TV   4.039203\n",
       "89  45            S   3.788551\n",
       "\n",
       "[90 rows x 3 columns]"
      ]
     },
     "execution_count": 20,
     "metadata": {},
     "output_type": "execute_result"
    }
   ],
   "source": [
    "ID_df"
   ]
  },
  {
   "cell_type": "code",
   "execution_count": 21,
   "metadata": {
    "executionInfo": {
     "elapsed": 406,
     "status": "ok",
     "timestamp": 1622044594458,
     "user": {
      "displayName": "Ryunouske OKA",
      "photoUrl": "",
      "userId": "07282612152377513932"
     },
     "user_tz": -540
    },
    "id": "3V-nZIjOhLfu"
   },
   "outputs": [],
   "source": [
    "#解釈多様性のデータを出力する\n",
    "ID_df.to_csv(\"../data/MetaphorSimileDiversity.csv\", index=False)"
   ]
  },
  {
   "cell_type": "code",
   "execution_count": null,
   "metadata": {
    "id": "cSwbrLq5ZEsy"
   },
   "outputs": [],
   "source": []
  }
 ],
 "metadata": {
  "colab": {
   "authorship_tag": "ABX9TyOysbhUFz0EZZk79Qhuzs5a",
   "collapsed_sections": [],
   "mount_file_id": "1NlZMaaWxOhPB1XHCxLempvv4TPuAGyEK",
   "name": "calculate_interpretive_diversity.ipynb",
   "provenance": [],
   "toc_visible": true
  },
  "kernelspec": {
   "display_name": "Python 3 (ipykernel)",
   "language": "python",
   "name": "python3"
  },
  "language_info": {
   "codemirror_mode": {
    "name": "ipython",
    "version": 3
   },
   "file_extension": ".py",
   "mimetype": "text/x-python",
   "name": "python",
   "nbconvert_exporter": "python",
   "pygments_lexer": "ipython3",
   "version": "3.8.10"
  }
 },
 "nbformat": 4,
 "nbformat_minor": 4
}
